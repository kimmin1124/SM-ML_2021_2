{
 "cells": [
  {
   "cell_type": "markdown",
   "id": "9db43ab5",
   "metadata": {},
   "source": [
    "## 1. 집값 데이터 읽기"
   ]
  },
  {
   "cell_type": "code",
   "execution_count": 1,
   "id": "ef6d50aa",
   "metadata": {},
   "outputs": [
    {
     "name": "stdout",
     "output_type": "stream",
     "text": [
      "         size  price\n",
      "0   27.575758   6.10\n",
      "1   26.969697   3.80\n",
      "2   36.969697   5.70\n",
      "3   13.636364   1.80\n",
      "4   56.969697  13.00\n",
      "5   29.090909   6.20\n",
      "6   80.303030  12.00\n",
      "7   51.515152   9.00\n",
      "8   34.848485   5.30\n",
      "9   18.484848   1.70\n",
      "10  30.909091   3.80\n",
      "11  33.939394   5.80\n",
      "12  26.060606   3.70\n",
      "13  32.424242   8.50\n",
      "14  32.121212   4.70\n",
      "15  31.818182   4.70\n",
      "16  30.909091   6.00\n",
      "17  36.969697   5.00\n",
      "18  32.424242   6.50\n",
      "19  33.030303   6.50\n",
      "20  27.575758   7.00\n",
      "21  20.000000   2.70\n",
      "22  25.454545   8.60\n",
      "23  31.818182   6.20\n",
      "24  32.424242   5.80\n",
      "25  32.424242   8.19\n",
      "26  28.484848   5.09\n",
      "27  32.424242   8.00\n",
      "28  37.272727   6.10\n",
      "29  25.757576   5.90\n",
      "30  23.333333   6.00\n",
      "31  31.515152   7.20\n",
      "32  33.333333   8.50\n",
      "33  19.393939   3.90\n",
      "34  33.030303   8.50\n",
      "35  20.909091   2.50\n",
      "36  33.636364   5.00\n",
      "37  21.212121   2.35\n",
      "38  30.606061   3.30\n",
      "39  30.909091   4.50\n",
      "40  29.393939   3.50\n",
      "41  57.878788   6.30\n",
      "42  30.909091   4.09\n",
      "43  18.787879   2.20\n",
      "44  28.181818   5.20\n",
      "45  30.606061   3.30\n",
      "46  21.212121   2.35\n",
      "47  32.727273  10.00\n",
      "48  28.787879   4.40\n",
      "49  47.575758   7.30\n",
      "50  32.121212   4.90\n",
      "51  14.848485   3.72\n"
     ]
    }
   ],
   "source": [
    "import numpy as np\n",
    "\n",
    "# (집 크기(평)), (가격(억원))\n",
    "# 학교근처(홍은동, 총제동, 구기동, 신영동, 평창동, 녹번동)\n",
    "\n",
    "import pandas as pd\n",
    "data = pd.read_csv('house_price.txt', names=['size', 'price'])\n",
    "print data\n",
    "\n",
    "X = data['size']  # 제곱미터(평)\n",
    "y = data['price'] # 억원\n",
    "m = len(data)     # 정보 개수(행 개수)"
   ]
  },
  {
   "cell_type": "code",
   "execution_count": 2,
   "id": "74efe223",
   "metadata": {},
   "outputs": [
    {
     "name": "stdout",
     "output_type": "stream",
     "text": [
      "(52, 1) (52, 1)\n"
     ]
    }
   ],
   "source": [
    "# numpy array 형태로 변환, 형태 변환(m) -> (m, 1)\n",
    "X = (np.array(X)).reshape(m,1)\n",
    "y = (np.array(y)).reshape(m,1)\n",
    "print X.shape, y.shape"
   ]
  },
  {
   "cell_type": "markdown",
   "id": "2a86901d",
   "metadata": {},
   "source": [
    "## 2. 그래프 그리기"
   ]
  },
  {
   "cell_type": "code",
   "execution_count": 3,
   "id": "8b1d22f7",
   "metadata": {},
   "outputs": [
    {
     "data": {
      "text/plain": [
       "<Figure size 640x480 with 1 Axes>"
      ]
     },
     "metadata": {},
     "output_type": "display_data"
    }
   ],
   "source": [
    "import matplotlib.pyplot as plt\n",
    "plt.plot(X, y, 'b.')\n",
    "plt.xlabel(\"Size of a house in Pyoeng\") # 집 크기(평)\n",
    "plt.ylabel(\"Price in uck-won\")          # 매매가(억원)\n",
    "plt.show()"
   ]
  },
  {
   "cell_type": "markdown",
   "id": "36af0325",
   "metadata": {},
   "source": [
    "## 3. Gradient descent -> theta"
   ]
  },
  {
   "cell_type": "markdown",
   "id": "2e152eaf",
   "metadata": {},
   "source": [
    "* 선형회귀모델  \n",
    "$h_\\theta(x) = \\theta_0 + \\theta_1x$\n",
    "\n",
    "* 경사 하강법 알고리즘  \n",
    "for j=0 and j=1{  \n",
    "$\\theta_j = \\theta_j - \\alpha\\frac{\\partial}{\\partial\\theta_j}J(\\theta_0, \\theta_1)$  \n",
    "}  \n",
    "\n",
    "* 그라디언트  \n",
    "$$\\frac{\\partial}{\\partial\\theta_j}J(\\theta_0, \\theta_1) = \n",
    "\\begin{pmatrix}\n",
    "\\frac{\\partial}{\\partial\\theta_0}J(\\theta_0, \\theta_1) \\\\\n",
    "\\frac{\\partial}{\\partial\\theta_1}J(\\theta_0, \\theta_1) \\\\\n",
    "\\end{pmatrix} =   \n",
    "\\begin{pmatrix}\n",
    "\\frac{1}{m}\\sum_{i=1}^{m}(\\theta_0 + \\theta_1x^{(i)}-y^{(i)})\\cdot1 \\\\\n",
    "\\frac{1}{m}\\sum_{i=1}^{m}(\\theta_0 + \\theta_1x^{(i)}-y^{(i)})\\cdot x^{(i)} \\\\\n",
    "\\end{pmatrix} =   \n",
    "\\frac{1}{m}X_b^T\\cdot(X_b \\cdot\\theta-y)$$  "
   ]
  },
  {
   "cell_type": "code",
   "execution_count": 29,
   "id": "074f805d",
   "metadata": {},
   "outputs": [
    {
     "name": "stdout",
     "output_type": "stream",
     "text": [
      "theta:\n",
      "[[0.00642125]\n",
      " [0.17560879]]\n"
     ]
    }
   ],
   "source": [
    "X_b = np.c_[np.ones((m, 1)), X]  # 모든 샘플에 x0=1을 추가\n",
    "# c_ : concentenation. 배열을 옆으로 붙이기\n",
    "\n",
    "learning_rate = 0.0001 # 학습률(learning rate)\n",
    "n_iter = 200\n",
    "\n",
    "theta = np.zeros((2,1))\n",
    "gradients = np.zeros((2,1))\n",
    "\n",
    "for i in range(n_iter):\n",
    "    # @@@@@ 코드 작성\n",
    "    #gradients = 1/m * np.dot(np.ones(X_b.T),np.ones(np.dot(X_b,theta)-y))\n",
    "    #gradients = 1/m * np.dot(X_b.T,np.dot(X_b,theta)-y)\n",
    "    gradients = 1/float(m)*(np.dot(X_b.T,np.dot(X_b,theta)-y))\n",
    "    theta = theta - learning_rate*gradients\n",
    "print \"theta:\"\n",
    "print theta"
   ]
  },
  {
   "cell_type": "markdown",
   "id": "707d0c9d",
   "metadata": {},
   "source": [
    "## 4. 집 크기 최소(10평)~최대(90평) * theta -> 그래프 그리기"
   ]
  },
  {
   "cell_type": "code",
   "execution_count": 30,
   "id": "0547779e",
   "metadata": {},
   "outputs": [
    {
     "name": "stdout",
     "output_type": "stream",
     "text": [
      "10평과 90평 집의 예측 가격\n",
      "[[ 1.76250917]\n",
      " [15.81121253]]\n"
     ]
    }
   ],
   "source": [
    "X_new = np.array([[10],[90]])  # 10~90평\n",
    "X_new_b = np.c_[np.ones((2,1)), X_new]  # 모든 샘플에 x0=1 을 추가\n",
    "y_predict = X_new_b.dot(theta)\n",
    "print \"10평과 90평 집의 예측 가격\"\n",
    "print y_predict"
   ]
  },
  {
   "cell_type": "code",
   "execution_count": 31,
   "id": "ecd3ad68",
   "metadata": {},
   "outputs": [
    {
     "data": {
      "image/png": "[encoded data removed]",
      "text/plain": [
       "<Figure size 432x288 with 1 Axes>"
      ]
     },
     "metadata": {
      "needs_background": "light"
     },
     "output_type": "display_data"
    }
   ],
   "source": [
    "plt.plot(X_new, y_predict, 'r-')\n",
    "plt.plot(X, y, 'b.')\n",
    "plt.xlabel(\"Size of a house in pyeong\") # 집 크기(10평)\n",
    "plt.ylabel(\"Price in uck-won\") # 매매가 (억원)\n",
    "plt.show()"
   ]
  },
  {
   "cell_type": "markdown",
   "id": "1182bc7e",
   "metadata": {},
   "source": [
    "## 5. 임의의 집 크기(x_my)에 대한 집값 예측하기"
   ]
  },
  {
   "cell_type": "code",
   "execution_count": 32,
   "id": "0406a339",
   "metadata": {},
   "outputs": [
    {
     "name": "stdout",
     "output_type": "stream",
     "text": [
      "[[4.39664105]] 억원\n"
     ]
    }
   ],
   "source": [
    "X_mine=np.array([[25]]) # 우리집이 25평이라면?\n",
    "X_mine_b = np.c_[np.ones((1, 1)), X_mine]  # 모든 샘플에 X0=1 을 추가\n",
    "y_predict = X_mine_b.dot(theta)\n",
    "print y_predict, \"억원\""
   ]
  },
  {
   "cell_type": "markdown",
   "id": "7988081c",
   "metadata": {},
   "source": [
    "## 6. (Optional) '3. Gradient descent' 대신, 확률적 경사 하강법 함수 호출하여 theta 구하기"
   ]
  },
  {
   "cell_type": "code",
   "execution_count": 33,
   "id": "ea5c1b08",
   "metadata": {},
   "outputs": [
    {
     "name": "stderr",
     "output_type": "stream",
     "text": [
      "/home/ec2-user/anaconda3/envs/pytorch_p27/lib/python2.7/site-packages/sklearn/linear_model/stochastic_gradient.py:152: DeprecationWarning: n_iter parameter is deprecated in 0.19 and will be removed in 0.21. Use max_iter and tol instead.\n",
      "  DeprecationWarning)\n"
     ]
    },
    {
     "data": {
      "text/plain": [
       "SGDRegressor(alpha=0.0001, average=False, early_stopping=False, epsilon=0.1,\n",
       "       eta0=0.0001, fit_intercept=True, l1_ratio=0.15,\n",
       "       learning_rate='invscaling', loss='squared_loss', max_iter=None,\n",
       "       n_iter=100, n_iter_no_change=5, penalty=None, power_t=0.25,\n",
       "       random_state=None, shuffle=True, tol=None, validation_fraction=0.1,\n",
       "       verbose=0, warm_start=False)"
      ]
     },
     "execution_count": 33,
     "metadata": {},
     "output_type": "execute_result"
    }
   ],
   "source": [
    "from sklearn.linear_model import SGDRegressor\n",
    "sgd_reg = SGDRegressor(n_iter=100, penalty=None, eta0=0.0001) # eta0(learning rate)\n",
    "sgd_reg.fit(X, y.ravel()) # sgd_reg.fit(X, y.ravel())  # 1차원 배열로 만들기 (m,1) -> (m)"
   ]
  },
  {
   "cell_type": "code",
   "execution_count": 34,
   "id": "2db55795",
   "metadata": {},
   "outputs": [
    {
     "name": "stdout",
     "output_type": "stream",
     "text": [
      "theta:\n",
      "[0.01100182] [0.17460251]\n"
     ]
    },
    {
     "data": {
      "image/png": "[encoded data removed]",
      "text/plain": [
       "<Figure size 432x288 with 1 Axes>"
      ]
     },
     "metadata": {
      "needs_background": "light"
     },
     "output_type": "display_data"
    }
   ],
   "source": [
    "print \"theta:\"\n",
    "print sgd_reg.intercept_, sgd_reg.coef_\n",
    "\n",
    "y_pred = sgd_reg.predict(X)\n",
    "plt.plot(X, y, 'b.')\n",
    "plt.plot(X, y_pred, 'r')\n",
    "plt.show()"
   ]
  },
  {
   "cell_type": "code",
   "execution_count": 35,
   "id": "82abbad0",
   "metadata": {},
   "outputs": [
    {
     "name": "stdout",
     "output_type": "stream",
     "text": [
      "[4.37606467] 억원\n"
     ]
    }
   ],
   "source": [
    "# 우리 집이 24평이라면 얼마일까\n",
    "y_pred = sgd_reg.predict([[25]])\n",
    "print y_pred, '억원'"
   ]
  },
  {
   "cell_type": "markdown",
   "id": "02338c38",
   "metadata": {},
   "source": [
    "## 7. (Optional) 비용함수 J($\\theta$) 3차원 그래프로 그리기"
   ]
  },
  {
   "cell_type": "code",
   "execution_count": 36,
   "id": "728fbed0",
   "metadata": {},
   "outputs": [],
   "source": [
    "from mpl_toolkits import mplot3d\n",
    "%matplotlib inline\n",
    "import numpy as np\n",
    "import matplotlib.pyplot as plt"
   ]
  },
  {
   "cell_type": "code",
   "execution_count": 37,
   "id": "bf3ec00d",
   "metadata": {},
   "outputs": [],
   "source": [
    "def ComputeJ(t0, t1, X, y):\n",
    "    m = len(X)\n",
    "    X_b = np.c_[np.ones((m, 1)), X] # 모든 샘플에 x0=1을 추가\n",
    "    theta = np.array([t0, t1])\n",
    "    \n",
    "    cost_vector = X_b.dot(theta) - y # (52,1)\n",
    "    \n",
    "    cost_vector = cost_vector.reshape(-1)\n",
    "    # 각 원소 제곱\n",
    "    cost2 = np.square(cost_vector)\n",
    "    # 원소들 더하기\n",
    "    cost_sum = np.sum(cost2) / (2*m)\n",
    "    \n",
    "    return cost_sum"
   ]
  },
  {
   "cell_type": "code",
   "execution_count": 38,
   "id": "7f104fe8",
   "metadata": {},
   "outputs": [],
   "source": [
    "#1. theta0, theta1, J 값 구하기\n",
    "d = 100  # # of split\n",
    "\n",
    "s=1.0\n",
    "theta0 = np.linspace(-15*s, 15*s, d) # -0.1 ~ 0.1\n",
    "theta1 = np.linspace(-1.0*s, 1.0*s, d) # 0.1 ~ 0.2\n",
    "\n",
    "J = np.ones((d,d))  # (100, 100)\n",
    "for i,t0 in enumerate(theta0):\n",
    "    for j,t1 in enumerate(theta1):\n",
    "        cost = ComputeJ(t0,t1,X,y)\n",
    "        J[i,j] = cost"
   ]
  },
  {
   "cell_type": "code",
   "execution_count": 39,
   "id": "3fca03a2",
   "metadata": {},
   "outputs": [
    {
     "data": {
      "image/png": "[encoded data removed]",
      "text/plain": [
       "<Figure size 432x288 with 1 Axes>"
      ]
     },
     "metadata": {
      "needs_background": "light"
     },
     "output_type": "display_data"
    }
   ],
   "source": [
    "#2. 그리기\n",
    "pX, pY = np.meshgrid(theta0, theta1)\n",
    "\n",
    "fig=plt.figure()\n",
    "ax = plt.axes(projection='3d')\n",
    "ax.contour3D(pX, pY, J, 300, cmap = 'viridis')\n",
    "ax.set_xlabel('theta0')\n",
    "ax.set_ylabel('theta1')\n",
    "ax.set_zlabel('J');\n",
    "plt.show()"
   ]
  }
 ],
 "metadata": {
  "kernelspec": {
   "display_name": "conda_pytorch_p27",
   "language": "python",
   "name": "conda_pytorch_p27"
  },
  "language_info": {
   "codemirror_mode": {
    "name": "ipython",
    "version": 2
   },
   "file_extension": ".py",
   "mimetype": "text/x-python",
   "name": "python",
   "nbconvert_exporter": "python",
   "pygments_lexer": "ipython2",
   "version": "2.7.16"
  }
 },
 "nbformat": 4,
 "nbformat_minor": 5
}
